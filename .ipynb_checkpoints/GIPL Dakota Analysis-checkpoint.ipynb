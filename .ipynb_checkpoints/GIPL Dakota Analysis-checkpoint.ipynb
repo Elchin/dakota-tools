{
 "cells": [
  {
   "cell_type": "markdown",
   "metadata": {},
   "source": [
    "In an attempt to observe the effects of converging on the synthetic parameter set truth we start a parameter study 'behind' the sythetic truth and drive a vector through it to observe the effect on the objective function."
   ]
  },
  {
   "cell_type": "code",
   "execution_count": 1,
   "metadata": {
    "collapsed": true
   },
   "outputs": [],
   "source": [
    "import dPy\n",
    "import dakota_report as dr"
   ]
  },
  {
   "cell_type": "code",
   "execution_count": 2,
   "metadata": {
    "collapsed": false
   },
   "outputs": [
    {
     "name": "stdout",
     "output_type": "stream",
     "text": [
      "Starting Dakota Report Generation...\n",
      "Date & Time: 2016-06-30 17:42:53.700862\n",
      "----------------------------------------\n",
      "Updating parameters...\n",
      "Parameters Updated.\n",
      "Minerals file updated.\n",
      "Simpson's Error: 1.07512467562e-05\n",
      "Trapezoidal Error: 1.07545185076e-05\n",
      "Summation Error: 1.1099771196e-05\n",
      "Current parameter set:\n",
      "{}\n",
      "{}\n",
      "Parameter % error:\n",
      "Current Error: {}\n",
      "dakota_temp.in created\n",
      "Running Dakota, please wait...\n",
      "Dakota version 6.3 released November 15 2015.\n",
      "Subversion revision 3842 built Nov 10 2015 11:18:21.\n",
      "Running MPI Dakota executable in serial mode.\n",
      "Start time: Thu Jun 30 11:42:54 2016\n",
      "\n",
      "-----------------------\n",
      "Begin DAKOTA input file\n",
      "./dakota_temp.in\n",
      "-----------------------\n",
      "environment\n",
      "tabular_data\n",
      "tabular_data_file = 'dakota_temp.dat'\n",
      "method\n",
      "vector_parameter_study\n",
      "final_point = num_steps = 100\n",
      "model single\n",
      "variables\n",
      "continuous_design  = 0\n",
      "initial_point =\n",
      "descriptors\n",
      "interface,\n",
      "fork\n",
      "analysis_drivers = 'objective_function.py'\n",
      "parameters_file = 'params.in'\n",
      "results_file = 'results.out'\n",
      "responses\n",
      "objective_functions = 1\n",
      "no_gradients\n",
      "no_hessians\n",
      "---------------------\n",
      "End DAKOTA input file\n",
      "---------------------\n",
      "\n",
      "Using Dakota input file './dakota_temp.in'\n",
      "Optimization completed.\n",
      "Minimized Coefficents:\n",
      "Updating parameters...\n",
      "--------------\n",
      "obj_fn:[]\n",
      "obj_fn:[]\n",
      "--------------\n",
      "a6:[ 0.063114]\n",
      "a6:[ 0.063114]\n",
      "Parameters Updated.\n",
      "Minerals file updated.\n",
      "{'obj_fn': 1.075124676e-05, 'a6': 0.063114}\n",
      "<type 'numpy.ndarray'>\n",
      "{'obj_fn': 1.075124676e-05, 'a6': 0.063114}\n",
      "Parameter % error:\n",
      "obj_fn:1.075124676e-05\n",
      "a6:0.063114\n",
      "error: 5.8\n",
      "Current Error: {'a6': 5.8000000000000007}\n",
      "Change in error:\n",
      "{}\n"
     ]
    },
    {
     "data": {
      "text/plain": [
       "ObjectId('57755a1ebf3a554171299386')"
      ]
     },
     "execution_count": 2,
     "metadata": {},
     "output_type": "execute_result"
    }
   ],
   "source": [
    "#\n",
    "param_study_all = { 'group':'synth_converge_all',\n",
    "                'model_id':'GIPL',\n",
    "                'method':'vector_parameter_study',\n",
    "                'scope':'all',\n",
    "                'seed_pt':{},\n",
    "                'var_type':'per_expan',\n",
    "                'per_expan':0.10,\n",
    "                'steps':100}\n",
    "\n",
    "# Grab the GIPL model from the database\n",
    "model= dr.retrieve_document({'model_id':'GIPL','type':'model'})\n",
    "# Set seed to synth param set\n",
    "synth_seed = dPy.get_synth(model)\n",
    "param_study_all['seed_pt'] = synth_seed\n",
    "\n",
    "param_report = dr.execute_dakota(**param_study_all)\n",
    "#Insert report into database\n",
    "dr.insert_document(param_report)\n",
    "\n"
   ]
  },
  {
   "cell_type": "code",
   "execution_count": null,
   "metadata": {
    "collapsed": true
   },
   "outputs": [],
   "source": []
  }
 ],
 "metadata": {
  "kernelspec": {
   "display_name": "Python 2",
   "language": "python",
   "name": "python2"
  },
  "language_info": {
   "codemirror_mode": {
    "name": "ipython",
    "version": 2
   },
   "file_extension": ".py",
   "mimetype": "text/x-python",
   "name": "python",
   "nbconvert_exporter": "python",
   "pygments_lexer": "ipython2",
   "version": "2.7.11"
  }
 },
 "nbformat": 4,
 "nbformat_minor": 0
}
